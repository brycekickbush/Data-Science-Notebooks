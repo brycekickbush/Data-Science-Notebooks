{
 "cells": [
  {
   "cell_type": "code",
   "execution_count": 1,
   "id": "97cef5d6",
   "metadata": {},
   "outputs": [],
   "source": [
    "# project: p6\n",
    "# submitter: kickbush\n",
    "# partner: none\n",
    "# hours: 10"
   ]
  },
  {
   "cell_type": "code",
   "execution_count": 2,
   "id": "2c66d08e",
   "metadata": {},
   "outputs": [
    {
     "data": {
      "text/plain": [
       "72"
      ]
     },
     "execution_count": 2,
     "metadata": {},
     "output_type": "execute_result"
    }
   ],
   "source": [
    "#q1\n",
    "import geopandas\n",
    "df = geopandas.read_file('counties.geojson')\n",
    "len(df)"
   ]
  },
  {
   "cell_type": "code",
   "execution_count": 3,
   "id": "d5fe8ce8",
   "metadata": {},
   "outputs": [
    {
     "data": {
      "image/png": "[encoded data removed]",
      "text/plain": [
       "<Figure size 432x288 with 2 Axes>"
      ]
     },
     "metadata": {
      "needs_background": "light"
     },
     "output_type": "display_data"
    }
   ],
   "source": [
    "#q2\n",
    "wiscCounty = df.plot(column='POP100', legend=True)"
   ]
  },
  {
   "cell_type": "code",
   "execution_count": 4,
   "id": "f4f5d563",
   "metadata": {},
   "outputs": [
    {
     "data": {
      "text/html": [
       "<div>\n",
       "<style scoped>\n",
       "    .dataframe tbody tr th:only-of-type {\n",
       "        vertical-align: middle;\n",
       "    }\n",
       "\n",
       "    .dataframe tbody tr th {\n",
       "        vertical-align: top;\n",
       "    }\n",
       "\n",
       "    .dataframe thead th {\n",
       "        text-align: right;\n",
       "    }\n",
       "</style>\n",
       "<table border=\"1\" class=\"dataframe\">\n",
       "  <thead>\n",
       "    <tr style=\"text-align: right;\">\n",
       "      <th></th>\n",
       "      <th>type</th>\n",
       "      <th>name</th>\n",
       "      <th>tbl_name</th>\n",
       "      <th>rootpage</th>\n",
       "      <th>sql</th>\n",
       "    </tr>\n",
       "  </thead>\n",
       "  <tbody>\n",
       "    <tr>\n",
       "      <th>0</th>\n",
       "      <td>table</td>\n",
       "      <td>counties</td>\n",
       "      <td>counties</td>\n",
       "      <td>2</td>\n",
       "      <td>CREATE TABLE \"counties\" (\\n\"index\" INTEGER,\\n ...</td>\n",
       "    </tr>\n",
       "    <tr>\n",
       "      <th>1</th>\n",
       "      <td>index</td>\n",
       "      <td>ix_counties_index</td>\n",
       "      <td>counties</td>\n",
       "      <td>3</td>\n",
       "      <td>CREATE INDEX \"ix_counties_index\"ON \"counties\" ...</td>\n",
       "    </tr>\n",
       "    <tr>\n",
       "      <th>2</th>\n",
       "      <td>table</td>\n",
       "      <td>tracts</td>\n",
       "      <td>tracts</td>\n",
       "      <td>4</td>\n",
       "      <td>CREATE TABLE \"tracts\" (\\n\"index\" INTEGER,\\n  \"...</td>\n",
       "    </tr>\n",
       "    <tr>\n",
       "      <th>3</th>\n",
       "      <td>index</td>\n",
       "      <td>ix_tracts_index</td>\n",
       "      <td>tracts</td>\n",
       "      <td>5</td>\n",
       "      <td>CREATE INDEX \"ix_tracts_index\"ON \"tracts\" (\"in...</td>\n",
       "    </tr>\n",
       "  </tbody>\n",
       "</table>\n",
       "</div>"
      ],
      "text/plain": [
       "    type               name  tbl_name  rootpage  \\\n",
       "0  table           counties  counties         2   \n",
       "1  index  ix_counties_index  counties         3   \n",
       "2  table             tracts    tracts         4   \n",
       "3  index    ix_tracts_index    tracts         5   \n",
       "\n",
       "                                                 sql  \n",
       "0  CREATE TABLE \"counties\" (\\n\"index\" INTEGER,\\n ...  \n",
       "1  CREATE INDEX \"ix_counties_index\"ON \"counties\" ...  \n",
       "2  CREATE TABLE \"tracts\" (\\n\"index\" INTEGER,\\n  \"...  \n",
       "3  CREATE INDEX \"ix_tracts_index\"ON \"tracts\" (\"in...  "
      ]
     },
     "execution_count": 4,
     "metadata": {},
     "output_type": "execute_result"
    }
   ],
   "source": [
    "import sqlite3\n",
    "import pandas as pd\n",
    "import numpy as np\n",
    "from sklearn.model_selection import train_test_split\n",
    "from sklearn.linear_model import LinearRegression\n",
    "connection = sqlite3.connect(\"counties_tracts.db\")\n",
    "pd.read_sql(\"\"\"SELECT * FROM sqlite_master\"\"\", connection)"
   ]
  },
  {
   "cell_type": "code",
   "execution_count": 5,
   "id": "511eb1c1",
   "metadata": {},
   "outputs": [
    {
     "data": {
      "text/html": [
       "<div>\n",
       "<style scoped>\n",
       "    .dataframe tbody tr th:only-of-type {\n",
       "        vertical-align: middle;\n",
       "    }\n",
       "\n",
       "    .dataframe tbody tr th {\n",
       "        vertical-align: top;\n",
       "    }\n",
       "\n",
       "    .dataframe thead th {\n",
       "        text-align: right;\n",
       "    }\n",
       "</style>\n",
       "<table border=\"1\" class=\"dataframe\">\n",
       "  <thead>\n",
       "    <tr style=\"text-align: right;\">\n",
       "      <th></th>\n",
       "      <th>NAME</th>\n",
       "      <th>POP100</th>\n",
       "      <th>geometry</th>\n",
       "      <th>AREALAND</th>\n",
       "    </tr>\n",
       "  </thead>\n",
       "  <tbody>\n",
       "    <tr>\n",
       "      <th>0</th>\n",
       "      <td>Racine County</td>\n",
       "      <td>195408</td>\n",
       "      <td>POLYGON ((-88.07073 42.66976, -88.06897 42.669...</td>\n",
       "      <td>861533739</td>\n",
       "    </tr>\n",
       "    <tr>\n",
       "      <th>1</th>\n",
       "      <td>Clark County</td>\n",
       "      <td>34690</td>\n",
       "      <td>POLYGON ((-90.55875 44.42221, -90.53398 44.422...</td>\n",
       "      <td>3133378070</td>\n",
       "    </tr>\n",
       "    <tr>\n",
       "      <th>2</th>\n",
       "      <td>Wood County</td>\n",
       "      <td>74749</td>\n",
       "      <td>POLYGON ((-89.72464 44.33712, -89.72460 44.338...</td>\n",
       "      <td>2054044751</td>\n",
       "    </tr>\n",
       "    <tr>\n",
       "      <th>3</th>\n",
       "      <td>Rusk County</td>\n",
       "      <td>14755</td>\n",
       "      <td>POLYGON ((-90.92517 45.37935, -90.92515 45.379...</td>\n",
       "      <td>2366092584</td>\n",
       "    </tr>\n",
       "    <tr>\n",
       "      <th>4</th>\n",
       "      <td>Ozaukee County</td>\n",
       "      <td>86395</td>\n",
       "      <td>POLYGON ((-87.89269 43.19202, -87.89265 43.192...</td>\n",
       "      <td>603514413</td>\n",
       "    </tr>\n",
       "    <tr>\n",
       "      <th>...</th>\n",
       "      <td>...</td>\n",
       "      <td>...</td>\n",
       "      <td>...</td>\n",
       "      <td>...</td>\n",
       "    </tr>\n",
       "    <tr>\n",
       "      <th>67</th>\n",
       "      <td>Washburn County</td>\n",
       "      <td>15911</td>\n",
       "      <td>POLYGON ((-91.55065 46.07034, -91.55065 46.070...</td>\n",
       "      <td>2064515991</td>\n",
       "    </tr>\n",
       "    <tr>\n",
       "      <th>68</th>\n",
       "      <td>Monroe County</td>\n",
       "      <td>44673</td>\n",
       "      <td>POLYGON ((-90.55246 43.72565, -90.55096 43.725...</td>\n",
       "      <td>2333270295</td>\n",
       "    </tr>\n",
       "    <tr>\n",
       "      <th>69</th>\n",
       "      <td>Richland County</td>\n",
       "      <td>18021</td>\n",
       "      <td>POLYGON ((-90.31107 43.55399, -90.31108 43.553...</td>\n",
       "      <td>1518120276</td>\n",
       "    </tr>\n",
       "    <tr>\n",
       "      <th>70</th>\n",
       "      <td>Price County</td>\n",
       "      <td>14159</td>\n",
       "      <td>POLYGON ((-90.04485 45.81765, -90.04440 45.830...</td>\n",
       "      <td>3248866440</td>\n",
       "    </tr>\n",
       "    <tr>\n",
       "      <th>71</th>\n",
       "      <td>St. Croix County</td>\n",
       "      <td>84345</td>\n",
       "      <td>POLYGON ((-92.51872 45.20963, -92.52951 45.209...</td>\n",
       "      <td>1871138853</td>\n",
       "    </tr>\n",
       "  </tbody>\n",
       "</table>\n",
       "<p>72 rows × 4 columns</p>\n",
       "</div>"
      ],
      "text/plain": [
       "                NAME  POP100  \\\n",
       "0      Racine County  195408   \n",
       "1       Clark County   34690   \n",
       "2        Wood County   74749   \n",
       "3        Rusk County   14755   \n",
       "4     Ozaukee County   86395   \n",
       "..               ...     ...   \n",
       "67   Washburn County   15911   \n",
       "68     Monroe County   44673   \n",
       "69   Richland County   18021   \n",
       "70      Price County   14159   \n",
       "71  St. Croix County   84345   \n",
       "\n",
       "                                             geometry    AREALAND  \n",
       "0   POLYGON ((-88.07073 42.66976, -88.06897 42.669...   861533739  \n",
       "1   POLYGON ((-90.55875 44.42221, -90.53398 44.422...  3133378070  \n",
       "2   POLYGON ((-89.72464 44.33712, -89.72460 44.338...  2054044751  \n",
       "3   POLYGON ((-90.92517 45.37935, -90.92515 45.379...  2366092584  \n",
       "4   POLYGON ((-87.89269 43.19202, -87.89265 43.192...   603514413  \n",
       "..                                                ...         ...  \n",
       "67  POLYGON ((-91.55065 46.07034, -91.55065 46.070...  2064515991  \n",
       "68  POLYGON ((-90.55246 43.72565, -90.55096 43.725...  2333270295  \n",
       "69  POLYGON ((-90.31107 43.55399, -90.31108 43.553...  1518120276  \n",
       "70  POLYGON ((-90.04485 45.81765, -90.04440 45.830...  3248866440  \n",
       "71  POLYGON ((-92.51872 45.20963, -92.52951 45.209...  1871138853  \n",
       "\n",
       "[72 rows x 4 columns]"
      ]
     },
     "execution_count": 5,
     "metadata": {},
     "output_type": "execute_result"
    }
   ],
   "source": [
    "areaLand = pd.read_sql(\"\"\"SELECT * FROM counties\"\"\", connection) #Grabas areaLand df from spl\n",
    "areaList = areaLand['AREALAND'].tolist() #Makes area into a list\n",
    "df['AREALAND'] = areaList #Adds AREALAND column to dataFrame\n",
    "df"
   ]
  },
  {
   "cell_type": "code",
   "execution_count": 6,
   "id": "f36ecfd3",
   "metadata": {},
   "outputs": [
    {
     "data": {
      "text/plain": [
       "['Kewaunee County',\n",
       " 'Calumet County',\n",
       " 'Adams County',\n",
       " 'Eau Claire County',\n",
       " 'Milwaukee County',\n",
       " 'Ashland County',\n",
       " 'Wood County',\n",
       " 'Dodge County',\n",
       " 'Sauk County',\n",
       " 'Clark County',\n",
       " 'Pepin County',\n",
       " 'Taylor County',\n",
       " 'Iron County',\n",
       " 'Outagamie County',\n",
       " 'Florence County',\n",
       " 'Oneida County',\n",
       " 'Pierce County',\n",
       " 'Grant County']"
      ]
     },
     "execution_count": 6,
     "metadata": {},
     "output_type": "execute_result"
    }
   ],
   "source": [
    "#q3\n",
    "x_train, x_test, y_train, y_test = train_test_split(df['NAME'],df['POP100'], random_state=320, test_size=.25)\n",
    "x_test.tolist()"
   ]
  },
  {
   "cell_type": "code",
   "execution_count": 7,
   "id": "3ef17a84",
   "metadata": {},
   "outputs": [
    {
     "data": {
      "text/plain": [
       "0.022002661530554857"
      ]
     },
     "execution_count": 7,
     "metadata": {},
     "output_type": "execute_result"
    }
   ],
   "source": [
    "#q4\n",
    "train, test = train_test_split(df, random_state=320, test_size=.25)\n",
    "\n",
    "lr = LinearRegression()\n",
    "model  = lr.fit(train[['AREALAND']], train['POP100'])\n",
    "lr.score(test[['AREALAND']], test['POP100'])"
   ]
  },
  {
   "cell_type": "code",
   "execution_count": null,
   "id": "0707193b",
   "metadata": {},
   "outputs": [],
   "source": []
  },
  {
   "cell_type": "code",
   "execution_count": 28,
   "id": "71311268",
   "metadata": {},
   "outputs": [
    {
     "name": "stdout",
     "output_type": "stream",
     "text": [
      "       AREALAND  predicted_pop\n",
      "0  1.295000e+09   3.089903e+09\n"
     ]
    },
    {
     "name": "stderr",
     "output_type": "stream",
     "text": [
      "/usr/local/lib/python3.8/dist-packages/sklearn/base.py:493: FutureWarning: The feature names should match those that were passed during fit. Starting version 1.2, an error will be raised.\n",
      "Feature names unseen at fit time:\n",
      "- AREALAND\n",
      "Feature names seen at fit time, yet now missing:\n",
      "- HU100\n",
      "\n",
      "  warnings.warn(message, FutureWarning)\n"
     ]
    },
    {
     "data": {
      "text/plain": [
       "3089902986.0551896"
      ]
     },
     "execution_count": 28,
     "metadata": {},
     "output_type": "execute_result"
    }
   ],
   "source": [
    "#q5\n",
    "num = 1e6 * 500 * 2.59\n",
    "predict_df = pd.DataFrame({\"AREALAND\": [num]})\n",
    "predict_df[\"predicted_pop\"] = lr.predict(predict_df)\n",
    "print(predict_df)\n",
    "float(predict_df[\"predicted_pop\"])"
   ]
  },
  {
   "cell_type": "code",
   "execution_count": 9,
   "id": "fef74fad",
   "metadata": {},
   "outputs": [],
   "source": [
    "connection = sqlite3.connect(\"counties_tracts.db\")\n",
    "pd.read_sql(\"\"\"SELECT * FROM sqlite_master\"\"\", connection)\n",
    "tractsDb = pd.read_sql(\"\"\"SELECT * FROM tracts\"\"\", connection)\n",
    "countieDb = pd.read_sql(\"\"\"SELECT * FROM counties\"\"\", connection)\n",
    "\n"
   ]
  },
  {
   "cell_type": "code",
   "execution_count": 10,
   "id": "0f368ea3",
   "metadata": {},
   "outputs": [
    {
     "data": {
      "text/plain": [
       "['Kewaunee County',\n",
       " 'Calumet County',\n",
       " 'Adams County',\n",
       " 'Eau Claire County',\n",
       " 'Milwaukee County',\n",
       " 'Ashland County',\n",
       " 'Wood County',\n",
       " 'Dodge County',\n",
       " 'Sauk County',\n",
       " 'Clark County',\n",
       " 'Pepin County',\n",
       " 'Taylor County',\n",
       " 'Iron County',\n",
       " 'Outagamie County',\n",
       " 'Florence County',\n",
       " 'Oneida County',\n",
       " 'Pierce County',\n",
       " 'Grant County']"
      ]
     },
     "execution_count": 10,
     "metadata": {},
     "output_type": "execute_result"
    }
   ],
   "source": [
    "#q6\n",
    "tractsDb\n",
    "\n",
    "#Creates a dictionary with all HU100 values with countyCode as the key\n",
    "temp = tractsDb.groupby('COUNTY')['HU100'].apply(list).to_dict() #Createes a dictionary that corresponds to (countyNumer:Hu100 values -->These values are in a list format we will sum this list in the for loop)\n",
    "countyName = dict(zip(countieDb.COUNTY, countieDb.NAME)) #Creates a dictionary that contains {countyCode:CountyName}\n",
    "countyHuDict = dict() #Dictionary that will be used for dataFrame\n",
    "for i in temp.keys(): #Creates a dictionary with {countyName:Hu100} sum\n",
    "    temp[i] = sum(temp[i]) #Sums the values of the temp dict EX: {001: 130, 140, 10} ----? {001: sum of (130, 140, 10)}\n",
    "    county = countyName[i] #Gets county name from county dictionary correlating to the county code number {001: Jefferson} EX: county = Jefferson\n",
    "    countyHuDict[county] = temp[i] #Inserts a key value pair into the final dictionary  {CountyName: Summed value of the list}\n",
    "df['HU100'] = df['NAME'].map(countyHuDict) #Adds HU100 to df mapped by dictionary\n",
    "train, test = train_test_split(df, random_state=320, test_size=.25)\n",
    "testSet = test['NAME'].tolist()\n",
    "testSet\n",
    "#lr = LinearRegression()\n",
    "#lr.fit(train[['NAME']], train['HU100'])\n",
    "#lr.score(test[['NAME']], test['HU100'])"
   ]
  },
  {
   "cell_type": "code",
   "execution_count": null,
   "id": "c72ed491",
   "metadata": {},
   "outputs": [],
   "source": []
  },
  {
   "cell_type": "code",
   "execution_count": 11,
   "id": "05fa6ab6",
   "metadata": {},
   "outputs": [
    {
     "data": {
      "text/plain": [
       "{'Walworth County': 51531,\n",
       " 'Marquette County': 9896,\n",
       " 'Racine County': 82164,\n",
       " 'Waupaca County': 25396,\n",
       " 'Lincoln County': 16784,\n",
       " 'Washburn County': 12979,\n",
       " 'Door County': 23966,\n",
       " 'Waukesha County': 160864,\n",
       " 'Sheboygan County': 50766,\n",
       " 'La Crosse County': 48402,\n",
       " 'Langlade County': 12360,\n",
       " 'Marathon County': 57734,\n",
       " 'Jefferson County': 35147,\n",
       " 'Price County': 11120,\n",
       " 'Vilas County': 25116,\n",
       " 'Columbia County': 26137,\n",
       " 'Ozaukee County': 36267,\n",
       " 'Fond du Lac County': 43910,\n",
       " 'Crawford County': 8802,\n",
       " 'Lafayette County': 7230,\n",
       " 'Green County': 15856,\n",
       " 'Marinette County': 30379,\n",
       " 'Vernon County': 13720,\n",
       " 'Douglas County': 22825,\n",
       " 'Rock County': 68422,\n",
       " 'Iowa County': 10719,\n",
       " 'Dane County': 216022,\n",
       " 'Bayfield County': 12999,\n",
       " 'Polk County': 24248,\n",
       " 'Trempealeau County': 12619,\n",
       " 'Brown County': 104371,\n",
       " 'Washington County': 54695,\n",
       " 'Chippewa County': 27185,\n",
       " 'Oconto County': 23537,\n",
       " 'Richland County': 8868,\n",
       " 'Portage County': 30054,\n",
       " 'Sawyer County': 15975,\n",
       " 'Menominee County': 2253,\n",
       " 'Barron County': 23614,\n",
       " 'Shawano County': 20720,\n",
       " 'Winnebago County': 73329,\n",
       " 'Rusk County': 8883,\n",
       " 'Manitowoc County': 37189,\n",
       " 'Dunn County': 17964,\n",
       " 'Monroe County': 19204,\n",
       " 'Waushara County': 14843,\n",
       " 'Forest County': 8970,\n",
       " 'Green Lake County': 10616,\n",
       " 'Juneau County': 14669,\n",
       " 'St. Croix County': 33983,\n",
       " 'Buffalo County': 6664,\n",
       " 'Kenosha County': 69288,\n",
       " 'Jackson County': 9727,\n",
       " 'Burnett County': 15278}"
      ]
     },
     "execution_count": 11,
     "metadata": {},
     "output_type": "execute_result"
    }
   ],
   "source": [
    "#q7\n",
    "testCounty = dict()\n",
    "for i in train['NAME']:\n",
    "    testCounty[i] = countyHuDict[i]\n",
    "testCounty"
   ]
  },
  {
   "cell_type": "code",
   "execution_count": 12,
   "id": "8e36f262",
   "metadata": {},
   "outputs": [
    {
     "data": {
      "text/plain": [
       "0.9652534544116037"
      ]
     },
     "execution_count": 12,
     "metadata": {},
     "output_type": "execute_result"
    }
   ],
   "source": [
    "#q8\n",
    "from sklearn import datasets, linear_model\n",
    "from sklearn.model_selection import cross_val_score\n",
    "x = train[['HU100']] #Data\n",
    "y = train['POP100']  #Target Data\n",
    "scores = cross_val_score(model,x,y,cv=5)\n",
    "scores.mean()"
   ]
  },
  {
   "cell_type": "code",
   "execution_count": 13,
   "id": "cca0d5a3",
   "metadata": {},
   "outputs": [
    {
     "data": {
      "text/plain": [
       "0.03704265206670459"
      ]
     },
     "execution_count": 13,
     "metadata": {},
     "output_type": "execute_result"
    }
   ],
   "source": [
    "#q9\n",
    "scores.std()"
   ]
  },
  {
   "cell_type": "code",
   "execution_count": 14,
   "id": "ccb83d1f",
   "metadata": {},
   "outputs": [
    {
     "data": {
      "text/plain": [
       "<AxesSubplot:xlabel='HU100', ylabel='POP100'>"
      ]
     },
     "execution_count": 14,
     "metadata": {},
     "output_type": "execute_result"
    },
    {
     "data": {
      "image/png": "[encoded data removed]",
      "text/plain": [
       "<Figure size 432x288 with 1 Axes>"
      ]
     },
     "metadata": {
      "needs_background": "light"
     },
     "output_type": "display_data"
    }
   ],
   "source": [
    "#q11\n",
    "#model.predict(df[[\"HU100\"]])\n",
    "lr = LinearRegression()\n",
    "model  = lr.fit(train[['HU100']], train['POP100'])\n",
    "predict_df = pd.DataFrame({\"HU100\": range(1, 420000)})\n",
    "\n",
    "predict_df[\"POP100\"] = model.predict(predict_df)\n",
    "plotPredict = predict_df.plot.line(x=\"HU100\", y=\"POP100\", color='red')\n",
    "df.plot.scatter('HU100', 'POP100', legend=True, ax=plotPredict)"
   ]
  },
  {
   "cell_type": "code",
   "execution_count": 15,
   "id": "75807818",
   "metadata": {},
   "outputs": [
    {
     "data": {
      "text/plain": [
       "'POP100 = 2.39*HU100 + -7910.46'"
      ]
     },
     "execution_count": 15,
     "metadata": {},
     "output_type": "execute_result"
    }
   ],
   "source": [
    "#q10\n",
    "model.intercept_\n",
    "stringThing = '*HU100 + '\n",
    "#model.coef_ = 2.386...\n",
    "#mode.intercept_ = \n",
    "POP100 = 'POP100 = ' + str(round(float(model.coef_), 2)) + stringThing + str(round(float(model.intercept_), 2))\n",
    "POP100"
   ]
  },
  {
   "cell_type": "code",
   "execution_count": 16,
   "id": "74044710",
   "metadata": {},
   "outputs": [
    {
     "data": {
      "text/plain": [
       "array([2.38603158])"
      ]
     },
     "execution_count": 16,
     "metadata": {},
     "output_type": "execute_result"
    }
   ],
   "source": [
    "model.coef_"
   ]
  },
  {
   "cell_type": "code",
   "execution_count": 17,
   "id": "52501492",
   "metadata": {},
   "outputs": [
    {
     "data": {
      "text/plain": [
       "12"
      ]
     },
     "execution_count": 17,
     "metadata": {},
     "output_type": "execute_result"
    }
   ],
   "source": [
    "#q12\n",
    "A = np.array([\n",
    "    [0,0,5,8,4],\n",
    "    [1,2,4,0,3],\n",
    "    [2,4,0,9,2],\n",
    "    [3,5,2,1,1],\n",
    "    [0,5,0,1,0]\n",
    "])\n",
    "12\n"
   ]
  },
  {
   "cell_type": "code",
   "execution_count": 18,
   "id": "7c414c2c",
   "metadata": {},
   "outputs": [],
   "source": [
    "from matplotlib.colors import ListedColormap\n",
    "\n",
    "c = np.zeros((256,3))\n",
    "c[0] = [0.00000000000, 0.00000000000, 0.00000000000]\n",
    "c[11] = [0.27843137255, 0.41960784314, 0.62745098039]\n",
    "c[12] = [0.81960784314, 0.86666666667, 0.97647058824]\n",
    "c[21] = [0.86666666667, 0.78823529412, 0.78823529412]\n",
    "c[22] = [0.84705882353, 0.57647058824, 0.50980392157]\n",
    "c[23] = [0.92941176471, 0.00000000000, 0.00000000000]\n",
    "c[24] = [0.66666666667, 0.00000000000, 0.00000000000]\n",
    "c[31] = [0.69803921569, 0.67843137255, 0.63921568628]\n",
    "c[41] = [0.40784313726, 0.66666666667, 0.38823529412]\n",
    "c[42] = [0.10980392157, 0.38823529412, 0.18823529412]\n",
    "c[43] = [0.70980392157, 0.78823529412, 0.55686274510]\n",
    "c[51] = [0.64705882353, 0.54901960784, 0.18823529412]\n",
    "c[52] = [0.80000000000, 0.72941176471, 0.48627450980]\n",
    "c[71] = [0.88627450980, 0.88627450980, 0.75686274510]\n",
    "c[72] = [0.78823529412, 0.78823529412, 0.46666666667]\n",
    "c[73] = [0.60000000000, 0.75686274510, 0.27843137255]\n",
    "c[74] = [0.46666666667, 0.67843137255, 0.57647058824]\n",
    "c[81] = [0.85882352941, 0.84705882353, 0.23921568628]\n",
    "c[82] = [0.66666666667, 0.43921568628, 0.15686274510]\n",
    "c[90] = [0.72941176471, 0.84705882353, 0.91764705882]\n",
    "c[95] = [0.43921568628, 0.63921568628, 0.72941176471]\n",
    "custom_cmap = ListedColormap(c)"
   ]
  },
  {
   "cell_type": "code",
   "execution_count": 19,
   "id": "8bdea9f4",
   "metadata": {},
   "outputs": [
    {
     "data": {
      "text/html": [
       "<div>\n",
       "<style scoped>\n",
       "    .dataframe tbody tr th:only-of-type {\n",
       "        vertical-align: middle;\n",
       "    }\n",
       "\n",
       "    .dataframe tbody tr th {\n",
       "        vertical-align: top;\n",
       "    }\n",
       "\n",
       "    .dataframe thead th {\n",
       "        text-align: right;\n",
       "    }\n",
       "</style>\n",
       "<table border=\"1\" class=\"dataframe\">\n",
       "  <thead>\n",
       "    <tr style=\"text-align: right;\">\n",
       "      <th></th>\n",
       "      <th>NAME</th>\n",
       "      <th>POP100</th>\n",
       "      <th>geometry</th>\n",
       "      <th>AREALAND</th>\n",
       "      <th>HU100</th>\n",
       "    </tr>\n",
       "  </thead>\n",
       "  <tbody>\n",
       "    <tr>\n",
       "      <th>0</th>\n",
       "      <td>Racine County</td>\n",
       "      <td>195408</td>\n",
       "      <td>POLYGON ((-88.07073 42.66976, -88.06897 42.669...</td>\n",
       "      <td>861533739</td>\n",
       "      <td>82164</td>\n",
       "    </tr>\n",
       "    <tr>\n",
       "      <th>1</th>\n",
       "      <td>Clark County</td>\n",
       "      <td>34690</td>\n",
       "      <td>POLYGON ((-90.55875 44.42221, -90.53398 44.422...</td>\n",
       "      <td>3133378070</td>\n",
       "      <td>15076</td>\n",
       "    </tr>\n",
       "    <tr>\n",
       "      <th>2</th>\n",
       "      <td>Wood County</td>\n",
       "      <td>74749</td>\n",
       "      <td>POLYGON ((-89.72464 44.33712, -89.72460 44.338...</td>\n",
       "      <td>2054044751</td>\n",
       "      <td>34088</td>\n",
       "    </tr>\n",
       "    <tr>\n",
       "      <th>3</th>\n",
       "      <td>Rusk County</td>\n",
       "      <td>14755</td>\n",
       "      <td>POLYGON ((-90.92517 45.37935, -90.92515 45.379...</td>\n",
       "      <td>2366092584</td>\n",
       "      <td>8883</td>\n",
       "    </tr>\n",
       "    <tr>\n",
       "      <th>4</th>\n",
       "      <td>Ozaukee County</td>\n",
       "      <td>86395</td>\n",
       "      <td>POLYGON ((-87.89269 43.19202, -87.89265 43.192...</td>\n",
       "      <td>603514413</td>\n",
       "      <td>36267</td>\n",
       "    </tr>\n",
       "    <tr>\n",
       "      <th>...</th>\n",
       "      <td>...</td>\n",
       "      <td>...</td>\n",
       "      <td>...</td>\n",
       "      <td>...</td>\n",
       "      <td>...</td>\n",
       "    </tr>\n",
       "    <tr>\n",
       "      <th>67</th>\n",
       "      <td>Washburn County</td>\n",
       "      <td>15911</td>\n",
       "      <td>POLYGON ((-91.55065 46.07034, -91.55065 46.070...</td>\n",
       "      <td>2064515991</td>\n",
       "      <td>12979</td>\n",
       "    </tr>\n",
       "    <tr>\n",
       "      <th>68</th>\n",
       "      <td>Monroe County</td>\n",
       "      <td>44673</td>\n",
       "      <td>POLYGON ((-90.55246 43.72565, -90.55096 43.725...</td>\n",
       "      <td>2333270295</td>\n",
       "      <td>19204</td>\n",
       "    </tr>\n",
       "    <tr>\n",
       "      <th>69</th>\n",
       "      <td>Richland County</td>\n",
       "      <td>18021</td>\n",
       "      <td>POLYGON ((-90.31107 43.55399, -90.31108 43.553...</td>\n",
       "      <td>1518120276</td>\n",
       "      <td>8868</td>\n",
       "    </tr>\n",
       "    <tr>\n",
       "      <th>70</th>\n",
       "      <td>Price County</td>\n",
       "      <td>14159</td>\n",
       "      <td>POLYGON ((-90.04485 45.81765, -90.04440 45.830...</td>\n",
       "      <td>3248866440</td>\n",
       "      <td>11120</td>\n",
       "    </tr>\n",
       "    <tr>\n",
       "      <th>71</th>\n",
       "      <td>St. Croix County</td>\n",
       "      <td>84345</td>\n",
       "      <td>POLYGON ((-92.51872 45.20963, -92.52951 45.209...</td>\n",
       "      <td>1871138853</td>\n",
       "      <td>33983</td>\n",
       "    </tr>\n",
       "  </tbody>\n",
       "</table>\n",
       "<p>72 rows × 5 columns</p>\n",
       "</div>"
      ],
      "text/plain": [
       "                NAME  POP100  \\\n",
       "0      Racine County  195408   \n",
       "1       Clark County   34690   \n",
       "2        Wood County   74749   \n",
       "3        Rusk County   14755   \n",
       "4     Ozaukee County   86395   \n",
       "..               ...     ...   \n",
       "67   Washburn County   15911   \n",
       "68     Monroe County   44673   \n",
       "69   Richland County   18021   \n",
       "70      Price County   14159   \n",
       "71  St. Croix County   84345   \n",
       "\n",
       "                                             geometry    AREALAND  HU100  \n",
       "0   POLYGON ((-88.07073 42.66976, -88.06897 42.669...   861533739  82164  \n",
       "1   POLYGON ((-90.55875 44.42221, -90.53398 44.422...  3133378070  15076  \n",
       "2   POLYGON ((-89.72464 44.33712, -89.72460 44.338...  2054044751  34088  \n",
       "3   POLYGON ((-90.92517 45.37935, -90.92515 45.379...  2366092584   8883  \n",
       "4   POLYGON ((-87.89269 43.19202, -87.89265 43.192...   603514413  36267  \n",
       "..                                                ...         ...    ...  \n",
       "67  POLYGON ((-91.55065 46.07034, -91.55065 46.070...  2064515991  12979  \n",
       "68  POLYGON ((-90.55246 43.72565, -90.55096 43.725...  2333270295  19204  \n",
       "69  POLYGON ((-90.31107 43.55399, -90.31108 43.553...  1518120276   8868  \n",
       "70  POLYGON ((-90.04485 45.81765, -90.04440 45.830...  3248866440  11120  \n",
       "71  POLYGON ((-92.51872 45.20963, -92.52951 45.209...  1871138853  33983  \n",
       "\n",
       "[72 rows x 5 columns]"
      ]
     },
     "execution_count": 19,
     "metadata": {},
     "output_type": "execute_result"
    }
   ],
   "source": [
    "df"
   ]
  },
  {
   "cell_type": "code",
   "execution_count": 20,
   "id": "47bb2d90",
   "metadata": {},
   "outputs": [
    {
     "data": {
      "text/plain": [
       "<matplotlib.image.AxesImage at 0x7feaeed9adc0>"
      ]
     },
     "execution_count": 20,
     "metadata": {},
     "output_type": "execute_result"
    },
    {
     "data": {
      "image/png": "[encoded data removed]",
      "text/plain": [
       "<Figure size 864x864 with 1 Axes>"
      ]
     },
     "metadata": {
      "needs_background": "light"
     },
     "output_type": "display_data"
    }
   ],
   "source": [
    "#q13\n",
    "import rasterio\n",
    "from rasterio.mask import mask\n",
    "import matplotlib.pyplot as plt\n",
    "import geopandas as gpd\n",
    "\n",
    "land = rasterio.open(\"zip://../p6/land.zip!wi.tif\")\n",
    "window = df[df[\"NAME\"]==\"Milwaukee County\"][\"geometry\"].set_crs(\"epsg:4326\").to_crs(land.crs)\n",
    "fig, ax = plt.subplots(figsize=(12,12))\n",
    "matrix = mask(land, window, crop=True)[0][0]\n",
    "ax.imshow(matrix, vmin=0, vmax=255, cmap=custom_cmap)"
   ]
  },
  {
   "cell_type": "code",
   "execution_count": 21,
   "id": "be1ae625",
   "metadata": {},
   "outputs": [],
   "source": [
    "\n",
    "land_use = {\"open_water\": 11,\n",
    "            \"ice_snow\": 12,\n",
    "            \"developed_open\": 21,\n",
    "            \"developed_low\": 22,\n",
    "            \"developed_med\": 23,\n",
    "            \"developed_high\": 24,\n",
    "            \"barren\": 31,\n",
    "            \"deciduous\": 41,\n",
    "            \"evergreen\": 42,\n",
    "            \"mixed_forest\": 43,\n",
    "            \"dwarf_scrub\": 51,\n",
    "            \"shrub_scrub\": 52,\n",
    "            \"grassland\": 71,\n",
    "            \"sedge\": 72,\n",
    "            \"lichens\": 73,\n",
    "            \"moss\": 74,\n",
    "            \"pasture\": 81,\n",
    "            \"crops\": 82,\n",
    "            \"woody_wetlands\": 90,\n",
    "            \"herbacious_wetlands\": 95}"
   ]
  },
  {
   "cell_type": "code",
   "execution_count": 22,
   "id": "62b94f51",
   "metadata": {},
   "outputs": [
    {
     "data": {
      "text/plain": [
       "0.7963037455950543"
      ]
     },
     "execution_count": 22,
     "metadata": {},
     "output_type": "execute_result"
    }
   ],
   "source": [
    "#q14\n",
    "np.count_nonzero(matrix==11)/np.count_nonzero(matrix)\n"
   ]
  },
  {
   "cell_type": "code",
   "execution_count": 23,
   "id": "4c83e39c",
   "metadata": {},
   "outputs": [
    {
     "data": {
      "image/png": "[encoded data removed]",
      "text/plain": [
       "<Figure size 432x288 with 1 Axes>"
      ]
     },
     "metadata": {
      "needs_background": "light"
     },
     "output_type": "display_data"
    }
   ],
   "source": [
    "#q15\n",
    "matrixDict = dict()\n",
    "for i in df['NAME'].tolist():\n",
    "    window = df[df[\"NAME\"]==i][\"geometry\"].set_crs(\"epsg:4326\").to_crs(land.crs)\n",
    "    matrix = mask(land, window, crop=True)[0][0]\n",
    "    percentageOfEvergreen = np.count_nonzero(land_use['evergreen'])/np.count_nonzero(matrix)\n",
    "    matrixDict[i] = percentageOfEvergreen\n",
    "df['EvergreenPercent'] = df['NAME'].map(matrixDict)\n",
    "ax = df.plot.scatter(x='EvergreenPercent', y='POP100')\n",
    "#I chose evergreen for my land"
   ]
  },
  {
   "cell_type": "code",
   "execution_count": null,
   "id": "1784c074",
   "metadata": {},
   "outputs": [],
   "source": []
  },
  {
   "cell_type": "code",
   "execution_count": 24,
   "id": "531a0283",
   "metadata": {},
   "outputs": [],
   "source": [
    "\n",
    "#Grabs tractsDf will add two columns corresponding to different types of land\n",
    "df = geopandas.read_file('tracts.geojson')\n",
    "matrixDict1 = dict()\n",
    "matrixDict2 = dict()\n",
    "matrixDict3 = dict()\n",
    "for i in df['GEOID'].tolist():\n",
    "    window = df[df[\"GEOID\"]==i][\"geometry\"].set_crs(\"epsg:4326\").to_crs(land.crs)\n",
    "    matrix = mask(land, window, crop=True)[0][0]\n",
    "    percentageOfHigh = np.count_nonzero(land_use['developed_high'])/np.count_nonzero(matrix)\n",
    "    percentageOfLow = np.count_nonzero(land_use['developed_low'])/np.count_nonzero(matrix)\n",
    "    percentageOfMed = np.count_nonzero(land_use['developed_med'])/np.count_nonzero(matrix)\n",
    "    matrixDict1[i] = percentageOfHigh*100\n",
    "    matrixDict2[i] = percentageOfLow*100\n",
    "    matrixDict3[i] = percentageOfMed*100\n",
    "    \n",
    "    \n",
    "df['HighDevelop'] = df['GEOID'].map(matrixDict1) #Percentage of High Developement within tract\n",
    "df['LowDevelop'] = df['GEOID'].map(matrixDict2)  #Percentage of Low developement within tract\n",
    "df['MedDevelop'] = df['GEOID'].map(matrixDict3) #Percentage of Medium Developement within tract\n"
   ]
  },
  {
   "cell_type": "code",
   "execution_count": 25,
   "id": "979df7f0",
   "metadata": {},
   "outputs": [
    {
     "name": "stdout",
     "output_type": "stream",
     "text": [
      "[-0.18645577  0.06549791  0.10081057  0.11641794  0.03839589]\n",
      "0.11010800610512375\n",
      "0.02286776768187366\n"
     ]
    },
    {
     "data": {
      "image/png": "[encoded data removed]",
      "text/plain": [
       "<Figure size 432x288 with 1 Axes>"
      ]
     },
     "metadata": {
      "needs_background": "light"
     },
     "output_type": "display_data"
    }
   ],
   "source": [
    "#q16\n",
    "from sklearn.preprocessing import PolynomialFeatures, OneHotEncoder\n",
    "from sklearn.pipeline import Pipeline\n",
    "from sklearn.compose import make_column_transformer\n",
    "train, test = train_test_split(df, random_state=320)\n",
    "#Originally I attempted to model, evergreen vs. Population and cropland vs. Population. This produced poor results due to their not being \n",
    "#great correlation between the two.\n",
    "#Model 1 standard regression\n",
    "model = LinearRegression()\n",
    "model.fit(train[['HighDevelop']], train['POP100'])\n",
    "scores1 = cross_val_score(model, test[['HighDevelop']], test['POP100'])\n",
    "scores1\n",
    "\n",
    "pf = PolynomialFeatures(include_bias=False, degree=3)\n",
    "oh = OneHotEncoder()\n",
    "#data = pf.fit_transform(train[['HighDevelop', 'POP100']])\n",
    "\n",
    "pipe = Pipeline([\n",
    "    ('poly', PolynomialFeatures(degree=2, include_bias=False)),\n",
    "    ('lr', LinearRegression())\n",
    "])\n",
    "pipe.fit(train[['MedDevelop']], train['POP100'])\n",
    "score = pipe.score(test[['MedDevelop']], test['POP100'])\n",
    "scores2 = cross_val_score(pipe, train[['MedDevelop']], train['POP100'])\n",
    "\n",
    "std = pd.Series({'MultColumns': scores1.std(), \"PipeModel\": scores2.std()})\n",
    "ax = std.plot.bar(yerr=std)\n",
    "\n",
    "print(scores1)\n",
    "print(scores1.std())\n",
    "print(scores2.std())"
   ]
  },
  {
   "cell_type": "code",
   "execution_count": 26,
   "id": "6e4fd0e2",
   "metadata": {},
   "outputs": [
    {
     "data": {
      "text/html": [
       "<div>\n",
       "<style scoped>\n",
       "    .dataframe tbody tr th:only-of-type {\n",
       "        vertical-align: middle;\n",
       "    }\n",
       "\n",
       "    .dataframe tbody tr th {\n",
       "        vertical-align: top;\n",
       "    }\n",
       "\n",
       "    .dataframe thead th {\n",
       "        text-align: right;\n",
       "    }\n",
       "</style>\n",
       "<table border=\"1\" class=\"dataframe\">\n",
       "  <thead>\n",
       "    <tr style=\"text-align: right;\">\n",
       "      <th></th>\n",
       "      <th>GEOID</th>\n",
       "      <th>POP100</th>\n",
       "      <th>geometry</th>\n",
       "      <th>HighDevelop</th>\n",
       "      <th>LowDevelop</th>\n",
       "      <th>MedDevelop</th>\n",
       "    </tr>\n",
       "  </thead>\n",
       "  <tbody>\n",
       "    <tr>\n",
       "      <th>0</th>\n",
       "      <td>55001950204</td>\n",
       "      <td>1646</td>\n",
       "      <td>POLYGON ((-90.02638 44.08721, -90.02628 44.086...</td>\n",
       "      <td>0.000223</td>\n",
       "      <td>0.000223</td>\n",
       "      <td>0.000223</td>\n",
       "    </tr>\n",
       "    <tr>\n",
       "      <th>1</th>\n",
       "      <td>55009940002</td>\n",
       "      <td>4698</td>\n",
       "      <td>POLYGON ((-88.15018 44.51202, -88.15011 44.509...</td>\n",
       "      <td>0.007808</td>\n",
       "      <td>0.007808</td>\n",
       "      <td>0.007808</td>\n",
       "    </tr>\n",
       "    <tr>\n",
       "      <th>2</th>\n",
       "      <td>55061990000</td>\n",
       "      <td>0</td>\n",
       "      <td>POLYGON ((-87.53727 44.33179, -87.53920 44.327...</td>\n",
       "      <td>0.000047</td>\n",
       "      <td>0.000047</td>\n",
       "      <td>0.000047</td>\n",
       "    </tr>\n",
       "    <tr>\n",
       "      <th>3</th>\n",
       "      <td>55009020100</td>\n",
       "      <td>5817</td>\n",
       "      <td>POLYGON ((-87.93753 44.67821, -87.93742 44.630...</td>\n",
       "      <td>0.000333</td>\n",
       "      <td>0.000333</td>\n",
       "      <td>0.000333</td>\n",
       "    </tr>\n",
       "    <tr>\n",
       "      <th>4</th>\n",
       "      <td>55009010100</td>\n",
       "      <td>6506</td>\n",
       "      <td>POLYGON ((-88.06825 44.45368, -88.06830 44.453...</td>\n",
       "      <td>0.017036</td>\n",
       "      <td>0.017036</td>\n",
       "      <td>0.017036</td>\n",
       "    </tr>\n",
       "    <tr>\n",
       "      <th>...</th>\n",
       "      <td>...</td>\n",
       "      <td>...</td>\n",
       "      <td>...</td>\n",
       "      <td>...</td>\n",
       "      <td>...</td>\n",
       "      <td>...</td>\n",
       "    </tr>\n",
       "    <tr>\n",
       "      <th>1537</th>\n",
       "      <td>55139003100</td>\n",
       "      <td>2046</td>\n",
       "      <td>POLYGON ((-88.47454 44.19198, -88.47453 44.191...</td>\n",
       "      <td>0.022041</td>\n",
       "      <td>0.022041</td>\n",
       "      <td>0.022041</td>\n",
       "    </tr>\n",
       "    <tr>\n",
       "      <th>1538</th>\n",
       "      <td>55079017900</td>\n",
       "      <td>2879</td>\n",
       "      <td>POLYGON ((-87.91064 42.99520, -87.91063 42.995...</td>\n",
       "      <td>0.146628</td>\n",
       "      <td>0.146628</td>\n",
       "      <td>0.146628</td>\n",
       "    </tr>\n",
       "    <tr>\n",
       "      <th>1539</th>\n",
       "      <td>55059000800</td>\n",
       "      <td>2763</td>\n",
       "      <td>POLYGON ((-87.84574 42.60276, -87.84574 42.602...</td>\n",
       "      <td>0.069444</td>\n",
       "      <td>0.069444</td>\n",
       "      <td>0.069444</td>\n",
       "    </tr>\n",
       "    <tr>\n",
       "      <th>1540</th>\n",
       "      <td>55025013700</td>\n",
       "      <td>7107</td>\n",
       "      <td>POLYGON ((-89.57788 42.98135, -89.57789 42.980...</td>\n",
       "      <td>0.004663</td>\n",
       "      <td>0.004663</td>\n",
       "      <td>0.004663</td>\n",
       "    </tr>\n",
       "    <tr>\n",
       "      <th>1541</th>\n",
       "      <td>55025012501</td>\n",
       "      <td>6657</td>\n",
       "      <td>POLYGON ((-89.38848 42.91102, -89.38848 42.910...</td>\n",
       "      <td>0.003428</td>\n",
       "      <td>0.003428</td>\n",
       "      <td>0.003428</td>\n",
       "    </tr>\n",
       "  </tbody>\n",
       "</table>\n",
       "<p>1542 rows × 6 columns</p>\n",
       "</div>"
      ],
      "text/plain": [
       "            GEOID  POP100                                           geometry  \\\n",
       "0     55001950204    1646  POLYGON ((-90.02638 44.08721, -90.02628 44.086...   \n",
       "1     55009940002    4698  POLYGON ((-88.15018 44.51202, -88.15011 44.509...   \n",
       "2     55061990000       0  POLYGON ((-87.53727 44.33179, -87.53920 44.327...   \n",
       "3     55009020100    5817  POLYGON ((-87.93753 44.67821, -87.93742 44.630...   \n",
       "4     55009010100    6506  POLYGON ((-88.06825 44.45368, -88.06830 44.453...   \n",
       "...           ...     ...                                                ...   \n",
       "1537  55139003100    2046  POLYGON ((-88.47454 44.19198, -88.47453 44.191...   \n",
       "1538  55079017900    2879  POLYGON ((-87.91064 42.99520, -87.91063 42.995...   \n",
       "1539  55059000800    2763  POLYGON ((-87.84574 42.60276, -87.84574 42.602...   \n",
       "1540  55025013700    7107  POLYGON ((-89.57788 42.98135, -89.57789 42.980...   \n",
       "1541  55025012501    6657  POLYGON ((-89.38848 42.91102, -89.38848 42.910...   \n",
       "\n",
       "      HighDevelop  LowDevelop  MedDevelop  \n",
       "0        0.000223    0.000223    0.000223  \n",
       "1        0.007808    0.007808    0.007808  \n",
       "2        0.000047    0.000047    0.000047  \n",
       "3        0.000333    0.000333    0.000333  \n",
       "4        0.017036    0.017036    0.017036  \n",
       "...           ...         ...         ...  \n",
       "1537     0.022041    0.022041    0.022041  \n",
       "1538     0.146628    0.146628    0.146628  \n",
       "1539     0.069444    0.069444    0.069444  \n",
       "1540     0.004663    0.004663    0.004663  \n",
       "1541     0.003428    0.003428    0.003428  \n",
       "\n",
       "[1542 rows x 6 columns]"
      ]
     },
     "execution_count": 26,
     "metadata": {},
     "output_type": "execute_result"
    }
   ],
   "source": [
    "df"
   ]
  },
  {
   "cell_type": "code",
   "execution_count": 27,
   "id": "83e466a8",
   "metadata": {},
   "outputs": [
    {
     "data": {
      "text/plain": [
       "0.11356257854878116"
      ]
     },
     "execution_count": 27,
     "metadata": {},
     "output_type": "execute_result"
    }
   ],
   "source": [
    "#q17\n",
    "#I used the second model due to the much better score. My second model using a pipe containing a polynomial and linear regression model. My second model has much less variance compared to the first model as well.\n",
    "score"
   ]
  },
  {
   "cell_type": "code",
   "execution_count": null,
   "id": "7ab540b4",
   "metadata": {},
   "outputs": [],
   "source": []
  }
 ],
 "metadata": {
  "kernelspec": {
   "display_name": "Python 3 (ipykernel)",
   "language": "python",
   "name": "python3"
  },
  "language_info": {
   "codemirror_mode": {
    "name": "ipython",
    "version": 3
   },
   "file_extension": ".py",
   "mimetype": "text/x-python",
   "name": "python",
   "nbconvert_exporter": "python",
   "pygments_lexer": "ipython3",
   "version": "3.8.10"
  }
 },
 "nbformat": 4,
 "nbformat_minor": 5
}
